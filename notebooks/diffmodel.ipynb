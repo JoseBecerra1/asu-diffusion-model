{
 "cells": [
  {
   "cell_type": "markdown",
   "id": "213f7ab4-4b61-4710-ad3d-5be75a7a8423",
   "metadata": {},
   "source": [
    "# A 1D diffusion model"
   ]
  },
  {
   "cell_type": "markdown",
   "id": "dd5dfc5e-8dc5-4d4f-b618-2ad54de90e6f",
   "metadata": {},
   "source": [
    "Here we develop one-deminsional model of diffusion.\n",
    "Assuming constant diffusivity\n",
    "Regular grid\n",
    "Step function for intial condition \n",
    "Fixed boundary condtions"
   ]
  },
  {
   "cell_type": "markdown",
   "id": "c662d61c-af44-4047-b7f9-34fae8d324f9",
   "metadata": {},
   "source": [
    "Here is the diffusion equation"
   ]
  },
  {
   "cell_type": "markdown",
   "id": "fe437ed9-3650-4a7c-ae49-6aa8d88b3b9e",
   "metadata": {},
   "source": [
    "$$ \\frac{\\partial C}{\\partial t} = D\\frac{\\partial^2 C}{\\partial x^2} $$"
   ]
  },
  {
   "cell_type": "markdown",
   "id": "5305a172-c79e-4be8-bd9c-e4e2386c13d0",
   "metadata": {},
   "source": [
    "Here is the discrtetized version of the diffusion equation we will solve with our model"
   ]
  },
  {
   "cell_type": "markdown",
   "id": "bae3010e-0e4d-416b-bf60-5f2a5ff29199",
   "metadata": {},
   "source": [
    "$$ C^{t+1}_x = C^t_x + {D \\Delta t \\over \\Delta x^2} (C^t_{x+1} - 2C^t_x + C^t_{x-1}) $$"
   ]
  },
  {
   "cell_type": "markdown",
   "id": "7ec7728c-15db-40b6-96d4-8df3d2f25f6e",
   "metadata": {},
   "source": [
    "This is the FTCS scheme as described by Slingerland and Kump (2011)."
   ]
  },
  {
   "cell_type": "markdown",
   "id": "390c2e46-85aa-44b9-b957-6c456413e593",
   "metadata": {},
   "source": [
    "Lets use two libraries, NumPy and Matplotlib "
   ]
  },
  {
   "cell_type": "code",
   "execution_count": null,
   "id": "11712b54-5574-4fe1-8677-5fbc2e398b87",
   "metadata": {},
   "outputs": [],
   "source": [
    "import numpy as np \n",
    "import matplotlib.pyplot as plt"
   ]
  },
  {
   "cell_type": "markdown",
   "id": "83fdb703-ec7c-46d5-9586-93b6945c0750",
   "metadata": {},
   "source": [
    "Start by setting two model parmaters, the diffusivity and the size of the model domain "
   ]
  },
  {
   "cell_type": "code",
   "execution_count": null,
   "id": "298e3380-82ab-469e-863f-ad2c15d4b889",
   "metadata": {},
   "outputs": [],
   "source": [
    "D = 100\n",
    "Lx = 300"
   ]
  },
  {
   "cell_type": "markdown",
   "id": "f206eb3e-cd31-48e1-966b-61f991127d8b",
   "metadata": {},
   "source": [
    "Next, set up the model grid using a NumPy array"
   ]
  },
  {
   "cell_type": "code",
   "execution_count": null,
   "id": "dc1bf2c4-289d-42fb-9dfb-277044429b3b",
   "metadata": {},
   "outputs": [],
   "source": [
    "dx = 0.5\n",
    "x = np.arange(start=0,stop=Lx, step=dx)\n",
    "nx = len(x)"
   ]
  },
  {
   "cell_type": "markdown",
   "id": "3568f9ca-dc8d-4737-aa04-00ae977eb586",
   "metadata": {},
   "source": [
    "Intial conditions, inital shape of the ice cream cake\n",
    "The cake 'C' is a step function with a high value on the left and a low value on thr right, and a step at the center of the domain"
   ]
  },
  {
   "cell_type": "code",
   "execution_count": null,
   "id": "0984e0fd-0c5c-403d-b255-b89d6df2fc50",
   "metadata": {},
   "outputs": [],
   "source": [
    "C = np.zeros_like(x)\n",
    "C_left = 500\n",
    "C_right = 0\n",
    "C[x<=Lx / 2] = C_left\n",
    "C[x> Lx / 2] = C_right"
   ]
  },
  {
   "cell_type": "markdown",
   "id": "7d319b1d-33bc-406a-a62a-ba46d8329ae8",
   "metadata": {},
   "source": [
    "Plot the inital profile"
   ]
  },
  {
   "cell_type": "code",
   "execution_count": null,
   "id": "eab0c502-300f-4be1-9fb8-6202bdc926c4",
   "metadata": {},
   "outputs": [],
   "source": [
    "plt.figure()\n",
    "plt.plot(x, C, \"r\")\n",
    "plt.xlabel(\"x\")\n",
    "plt.ylabel(\"C\")\n",
    "plt.title(\"Initial Profile\")"
   ]
  },
  {
   "cell_type": "markdown",
   "id": "596ef7a3-cc19-4859-8c07-06d93e67a276",
   "metadata": {},
   "source": [
    "Set the number of timesteps in the model\n",
    "Calculare a stable timestep using a stability criterion"
   ]
  },
  {
   "cell_type": "code",
   "execution_count": null,
   "id": "320e36b1-b50e-449e-a065-475e3f1c9488",
   "metadata": {},
   "outputs": [],
   "source": [
    "nt = 5000\n",
    "dt = 0.5*dx**2/D"
   ]
  },
  {
   "cell_type": "markdown",
   "id": "4d332c12-8526-4222-bf6e-05e46436f440",
   "metadata": {},
   "source": [
    "Loop over the time steps of the model solving the diffusion equation using the FTCS scheme shown above\n",
    "Note the use of array operations on the variable 'C'. \n",
    "The boundary condtions remain fixed at each time step"
   ]
  },
  {
   "cell_type": "code",
   "execution_count": null,
   "id": "5da059f4-3c7d-4eb3-9b8c-c193859744e5",
   "metadata": {},
   "outputs": [],
   "source": [
    "for t in range(0, nt):\n",
    "\tC[1:-1] += D * dt / dx ** 2 * (C[:-2] - 2*C[1:-1] + C[2:])\n",
    "# C[1:-1] ensures first and lat vlaue (boudnary conditions) are nor touched\n",
    "# += takes the quantity (D * dt / dx ** 2 * (C[:-2] - 2*C[1:-1] + C[2:]) and ads the quntitify evertime to the loop"
   ]
  },
  {
   "cell_type": "code",
   "execution_count": null,
   "id": "162d43bc-3f81-46a3-bae3-bbacf409ec1c",
   "metadata": {},
   "outputs": [],
   "source": [
    "plt.figure()\n",
    "plt.plot(x, C, \"b\")\n",
    "plt.xlabel(\"x\")\n",
    "plt.ylabel(\"C\")\n",
    "plt.title(\"Final Profile\")"
   ]
  }
 ],
 "metadata": {
  "kernelspec": {
   "display_name": "Ivy",
   "language": "python",
   "name": "ivy"
  },
  "language_info": {
   "codemirror_mode": {
    "name": "ipython",
    "version": 3
   },
   "file_extension": ".py",
   "mimetype": "text/x-python",
   "name": "python",
   "nbconvert_exporter": "python",
   "pygments_lexer": "ipython3",
   "version": "3.13.3"
  }
 },
 "nbformat": 4,
 "nbformat_minor": 5
}
